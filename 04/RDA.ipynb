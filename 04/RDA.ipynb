{
 "cells": [
  {
   "cell_type": "code",
   "execution_count": 61,
   "metadata": {
    "collapsed": true,
    "pycharm": {
     "is_executing": false
    }
   },
   "outputs": [],
   "source": [
    "import numpy as np\n",
    "import math\n",
    "import pandas as pd"
   ]
  },
  {
   "cell_type": "code",
   "execution_count": 62,
   "outputs": [],
   "source": [
    "def modify_covariance_1(cov, lamba, S,num, num_all):\n",
    "    return \\\n",
    "        ((1 - lamba) * num * cov + lamba * num_all * S) \\\n",
    "        / ((1 - lamba) * num + lamba * num_all)\n",
    "def modify_corvariance_2(cov, ep) :\n",
    "    trace = cov.trace() / cov.shape[0]\n",
    "    Id = np.eye(cov.shape[0])\n",
    "    return (1 - ep) * cov + ep * trace * Id\n",
    "\n",
    "def S(cov_1,cov_2,cov_3,n1,n2,n3) :\n",
    "    return cov_1 * n1 / (n1 + n2+ n3) + cov_2 * n2 \\\n",
    "           / (n1 + n2 + n3) + cov_3 * n3 / (n1 + n2 + n3)\n",
    "    \n",
    "def rda_modify(cov ,lamba, S, num , num_all, ep) :\n",
    "    cov_m = modify_covariance_1(cov, lamba, S , num, num_all)\n",
    "    return modify_corvariance_2(cov_m , ep)\n",
    "\n",
    "\n",
    "def get_qda_cor_matrix (train, mu) :\n",
    "    # print(len(train))\n",
    "    size = train[0].shape[0]\n",
    "    zero: np.ndarray = np.random.normal(0, 0.01, size=(size,size))\n",
    "    i = 1\n",
    "    for vec in train : \n",
    "        if i == 1 :\n",
    "            # print(type(vec - mu))\n",
    "            # print(type(zero))\n",
    "            i += 1\n",
    "        zero += np.multiply((vec - mu), vec - mu)\n",
    "    return zero / len(train)\n",
    "\n",
    "def get_qda_norm_attribute (train) : \n",
    "    # print(train)\n",
    "    init_vec = np.zeros(train[0].shape[0])\n",
    "    for vec in train :\n",
    "        init_vec += vec\n",
    "    return init_vec / len(train)\n",
    "\n",
    "def get_sample_covariance_matrix(sample_data):\n",
    "    mean_i = get_qda_norm_attribute(sample_data)\n",
    "    sample_data_1 = sample_data\n",
    "        #print type(sample_data_1)\n",
    "    covMatrix = get_qda_cor_matrix(sample_data_1, mean_i)\n",
    "        #covMatrix = np.cov(sample_data)\n",
    "    return covMatrix,mean_i\n"
   ],
   "metadata": {
    "collapsed": false,
    "pycharm": {
     "name": "#%%\n",
     "is_executing": false
    }
   }
  },
  {
   "cell_type": "code",
   "execution_count": 63,
   "outputs": [],
   "source": [
    "def encoding_(dict : dict, idx_to_stuff,stuff, ty=float) :\n",
    "    num = len(dict.items())\n",
    "    if dict.__contains__(stuff) : # 包含这个数值 则不进行处理 返回code\n",
    "        return ty(dict[stuff])\n",
    "    else : \n",
    "        dict[stuff] = num\n",
    "        idx_to_stuff[num] = stuff\n",
    "        return ty(num)\n",
    "\n",
    "def encode_raw_data(raw_data_set : pd.DataFrame, di= None) :\n",
    "    out_matrix = np.zeros(raw_data_set.shape)\n",
    "    # size = raw_data_set.items()\n",
    "    # print(size)\n",
    "    ret = []\n",
    "    for ind in range(raw_data_set.shape[1]) :\n",
    "        col = raw_data_set[ind]\n",
    "        dic = dict()\n",
    "        idx_dic = dict()\n",
    "        if di:\n",
    "            dic,idx_dic = di[ind] \n",
    "        idx = 0\n",
    "        for elem in col : \n",
    "            elem_code  = encoding_(dic, idx_dic, elem)\n",
    "            out_matrix[idx,ind] = elem_code\n",
    "            idx += 1\n",
    "        ret.append((dic, idx_dic))\n",
    "    return out_matrix, ret\n",
    "\n",
    "def discriminant_function(x, covMatrix, mean_i,p_i):\n",
    "        cov_inverse = np.linalg.pinv(covMatrix)\n",
    "        a = x - mean_i\n",
    "        b = np.dot(a.T, cov_inverse)\n",
    "        c = -np.dot(b, a)\n",
    "        discriminant_function_value =  math.log(p_i) - \\\n",
    "                                       c / 2 - 1/2 * \\\n",
    "                                       math.log(np.abs\n",
    "                                                (np.linalg.det(covMatrix)))\n",
    "        return discriminant_function_value"
   ],
   "metadata": {
    "collapsed": false,
    "pycharm": {
     "name": "#%%\n",
     "is_executing": false
    }
   }
  },
  {
   "cell_type": "code",
   "source": [
    "import sys\n",
    "sys.path.append(\"..\")\n",
    "raw_data_test = pd.read_csv(\"C:\\\\Users\\\\coco1\\\\PycharmProjects\\\\PRHM01\\\\04\\\\ds04\\\\iris.data\", dtype=str,sep=\",\", header=None)\n",
    "raw_data = pd.read_csv(\"C:\\\\Users\\\\coco1\\\\PycharmProjects\\\\PRHM01\\\\04\\\\ds04\\\\bezdekIris.data\", dtype=str,sep=\",\", header=None)\n",
    "# raw_data = pd.read_csv(\"C:\\\\Users\\\\coco1\\\\PycharmProjects\\\\PRHM01\\\\03\\\\ds03\\\\adult.data\", header=None, dtype=str)\n",
    "# train,di_raw = encode_raw_data(raw_data)\n",
    "# test,di_raw = encode_raw_data(raw_data_test, di_raw)\n",
    "train = raw_data.sample(frac=1).values\n",
    "test = raw_data_test.sample(frac=1).shift().values"
   ],
   "metadata": {
    "collapsed": false,
    "pycharm": {
     "name": "#%%\n",
     "is_executing": false
    }
   },
   "execution_count": 64,
   "outputs": []
  },
  {
   "cell_type": "code",
   "execution_count": 65,
   "outputs": [],
   "source": [
    "train_set = np.array(train[:,0:-1], dtype=float)\n",
    "train_label = np.array(train[:,-1], dtype=str)\n",
    "test_set = np.array(test[:,0:-1], dtype=float)\n",
    "test_label = np.array(test[:,-1], dtype=str)"
   ],
   "metadata": {
    "collapsed": false,
    "pycharm": {
     "name": "#%%\n",
     "is_executing": false
    }
   }
  },
  {
   "cell_type": "code",
   "execution_count": 73,
   "outputs": [],
   "source": [
    "def classify (td, tl) :\n",
    "    type1_train_data = []\n",
    "    type2_train_data = []\n",
    "    type3_train_data = []\n",
    "    num_1 = 0\n",
    "    num_2 = 0\n",
    "    num_3 = 0\n",
    "    for i in range(len(tl)) :\n",
    "        if str(tl[i]) == \"Iris-setosa\" : \n",
    "            type1_train_data.append(td[i])\n",
    "            num_1 += 1\n",
    "        if str(tl[i]) == \"Iris-versicolor\" : \n",
    "            type2_train_data.append(td[i])\n",
    "            num_2 += 1\n",
    "        if str(tl[i]) == \"Iris-virginica\" : \n",
    "            type3_train_data.append(td[i])\n",
    "            num_3 += 1\n",
    "    return type1_train_data, type2_train_data, type3_train_data, \\\n",
    "           num_1, num_2 , num_3\n",
    "    # print(str(train_label[i]))\n",
    "def split_into_folds(ds, label,folds_n):\n",
    "    li = []\n",
    "    length = len(ds)\n",
    "    num = int(length / folds_n)\n",
    "    start = 0\n",
    "    end = num\n",
    "    for i in range(folds_n) :\n",
    "        if i == folds_n - 1 : end = length - 1\n",
    "        test = []\n",
    "        va = []\n",
    "        test_l = []\n",
    "        va_l = []\n",
    "        for j in range(length) :\n",
    "            if end >= j >= start :\n",
    "                test.append(ds[j])\n",
    "                test_l.append(label[j])\n",
    "            else: \n",
    "                va.append(ds[j])\n",
    "                va_l.append(label[j])\n",
    "        li.append([test, va, test_l, va_l])\n",
    "        start += num\n",
    "        end += num\n",
    "    return li\n",
    "def evaluate (test, tl, lamda, ep, train, trl) :\n",
    "    t1,t2,t3,n1,n2,n3 = classify(train, trl)\n",
    "    if n1 == 0 or n2 == 0 or n3 == 0 : return 0\n",
    "    # print(n1,n2,n3)\n",
    "    cov_1,m_1 = get_sample_covariance_matrix(t1)\n",
    "    # m_1 = get_qda_norm_attribute(t1)\n",
    "    cov_2,m_2 = get_sample_covariance_matrix(t2)\n",
    "    cov_3,m_3 = get_sample_covariance_matrix(t3)\n",
    "    # m_2 = get_qda_norm_attribute(t2)\n",
    "    s = S(cov_1,cov_2,cov_3, n1,n2,n3)\n",
    "    cov_m_1 = rda_modify(cov_1, lamda, s, n1 ,n1+n2+n3, ep)\n",
    "    cov_m_2 = rda_modify(cov_2, lamda, s, n2 ,n1+n2+n3, ep)\n",
    "    cov_m_3 = rda_modify(cov_3, lamda, s, n3 ,n1+n2+n3, ep)\n",
    "    score = 0\n",
    "    ind = 0\n",
    "    for x in test : \n",
    "        j_1 = discriminant_function(x, cov_m_1, m_1, n1 / (n1+n2+n3))\n",
    "        j_2 = discriminant_function(x, cov_m_2, m_2, n2 / (n1+n2+n3))\n",
    "        j_3 = discriminant_function(x, cov_m_3, m_3, n3 / (n1+n2+n3))\n",
    "        if j_1 > j_2 :\n",
    "            if j_1 > j_3 :\n",
    "                re = \"Iris-setosa\"\n",
    "            else : re = \"Iris-virginica\"\n",
    "        else : \n",
    "            if j_2 > j_3 :re = \"Iris-versicolor\"\n",
    "            else :  re = \"Iris-virginica\"\n",
    "        if re == str(tl[ind]) : \n",
    "            score += 1\n",
    "        print(re, tl[ind])\n",
    "        ind += 1\n",
    "       \n",
    "    return score"
   ],
   "metadata": {
    "collapsed": false,
    "pycharm": {
     "name": "#%%\n",
     "is_executing": false
    }
   }
  },
  {
   "cell_type": "code",
   "execution_count": 74,
   "outputs": [],
   "source": [
    "#cross validation :\n",
    "import matplotlib as plt\n",
    "def get_parameter_by_cross_validate(ds, label, folds_n):\n",
    "        lamba_list= []\n",
    "        ep_list = []\n",
    "        result_score = []\n",
    "        li = split_into_folds(ds, label, folds_n)\n",
    "        for e in range(10):\n",
    "            for lm in range(10):\n",
    "                scores = []\n",
    "                lamba = 0.1 * float(lm)\n",
    "                ep = 0.1 * float(e)\n",
    "                for i in range(folds_n):\n",
    "                    training_data_i = li[i][0]\n",
    "                    test_data_i = li[i][1]\n",
    "                    train_data_label = li[i][2]\n",
    "                    test_data_label = li[i][3]\n",
    "                    score = evaluate\\\n",
    "                        (test_data_i, \n",
    "                         test_data_label,\n",
    "                         lamba , \n",
    "                         ep, \n",
    "                         training_data_i,\n",
    "                         train_data_label)\n",
    "                    #print score\n",
    "                    scores.append(score)\n",
    "                score_mean = np.mean(scores)\n",
    "                # print score_mean\n",
    "                result_score.append(score_mean)\n",
    "                lamba_list.append(lamba)\n",
    "                ep_list.append(ep)\n",
    "        l = lamba_list[result_score.index(max(result_score))]\n",
    "        e = ep_list[result_score.index(max(result_score))]\n",
    "        return l, e"
   ],
   "metadata": {
    "collapsed": false,
    "pycharm": {
     "name": "#%%\n",
     "is_executing": false
    }
   }
  },
  {
   "cell_type": "code",
   "execution_count": 68,
   "outputs": [],
   "source": [
    "\n",
    "l,e = get_parameter_by_cross_validate(train_set, train_label, 10)\n",
    "\n"
   ],
   "metadata": {
    "collapsed": false,
    "pycharm": {
     "name": "#%%\n",
     "is_executing": false
    }
   }
  },
  {
   "cell_type": "code",
   "execution_count": 75,
   "outputs": [
    {
     "name": "stdout",
     "text": [
      "0.8 0.0\nIris-virginica nan\nIris-setosa Iris-setosa\nIris-versicolor Iris-versicolor\nIris-versicolor Iris-versicolor\nIris-virginica Iris-virginica\nIris-virginica Iris-virginica\nIris-virginica Iris-virginica\nIris-virginica Iris-virginica\nIris-virginica Iris-virginica\nIris-versicolor Iris-versicolor\nIris-setosa Iris-setosa\nIris-versicolor Iris-versicolor\nIris-versicolor Iris-versicolor\nIris-versicolor Iris-versicolor\nIris-versicolor Iris-versicolor\nIris-setosa Iris-setosa\nIris-virginica Iris-virginica\nIris-setosa Iris-setosa\nIris-virginica Iris-virginica\nIris-versicolor Iris-versicolor\nIris-virginica Iris-virginica\nIris-setosa Iris-setosa\nIris-versicolor Iris-versicolor\nIris-virginica Iris-virginica\nIris-setosa Iris-setosa\nIris-virginica Iris-virginica\nIris-versicolor Iris-versicolor\nIris-virginica Iris-virginica\nIris-setosa Iris-setosa\nIris-virginica Iris-virginica\nIris-virginica Iris-virginica\nIris-versicolor Iris-versicolor\nIris-virginica Iris-virginica\nIris-versicolor Iris-versicolor\nIris-virginica Iris-versicolor\nIris-setosa Iris-setosa\nIris-versicolor Iris-versicolor\nIris-virginica Iris-versicolor\nIris-versicolor Iris-versicolor\nIris-setosa Iris-setosa\nIris-setosa Iris-setosa\nIris-virginica Iris-virginica\nIris-setosa Iris-setosa\nIris-setosa Iris-setosa\nIris-setosa Iris-setosa\nIris-setosa Iris-setosa\nIris-setosa Iris-setosa\nIris-versicolor Iris-versicolor\nIris-virginica Iris-virginica\nIris-virginica Iris-virginica\nIris-setosa Iris-setosa\nIris-setosa Iris-setosa\nIris-virginica Iris-virginica\nIris-virginica Iris-virginica\nIris-versicolor Iris-versicolor\nIris-virginica Iris-virginica\nIris-setosa Iris-setosa\nIris-setosa Iris-setosa\nIris-setosa Iris-setosa\nIris-virginica Iris-virginica\nIris-setosa Iris-setosa\nIris-versicolor Iris-versicolor\nIris-versicolor Iris-versicolor\nIris-virginica Iris-virginica\nIris-setosa Iris-setosa\nIris-versicolor Iris-versicolor\nIris-versicolor Iris-versicolor\nIris-virginica Iris-virginica\nIris-virginica Iris-virginica\nIris-versicolor Iris-versicolor\nIris-virginica Iris-virginica\nIris-versicolor Iris-versicolor\nIris-versicolor Iris-versicolor\nIris-versicolor Iris-versicolor\nIris-virginica Iris-virginica\nIris-versicolor Iris-versicolor\nIris-setosa Iris-setosa\nIris-virginica Iris-virginica\nIris-setosa Iris-setosa\nIris-setosa Iris-setosa\nIris-virginica Iris-virginica\nIris-setosa Iris-setosa\nIris-setosa Iris-setosa\nIris-versicolor Iris-versicolor\nIris-setosa Iris-setosa\nIris-virginica Iris-virginica\nIris-virginica Iris-virginica\nIris-virginica Iris-virginica\nIris-versicolor Iris-versicolor\nIris-setosa Iris-setosa\nIris-setosa Iris-setosa\nIris-setosa Iris-setosa\nIris-virginica Iris-virginica\nIris-setosa Iris-setosa\nIris-virginica Iris-virginica\nIris-virginica Iris-virginica\nIris-versicolor Iris-versicolor\nIris-setosa Iris-setosa\nIris-versicolor Iris-virginica\nIris-setosa Iris-setosa\nIris-virginica Iris-virginica\nIris-versicolor Iris-versicolor\nIris-virginica Iris-virginica\nIris-setosa Iris-setosa\nIris-virginica Iris-virginica\nIris-setosa Iris-setosa\nIris-versicolor Iris-versicolor\nIris-setosa Iris-setosa\nIris-versicolor Iris-versicolor\nIris-virginica Iris-virginica\nIris-versicolor Iris-versicolor\nIris-versicolor Iris-versicolor\nIris-virginica Iris-virginica\nIris-setosa Iris-setosa\nIris-versicolor Iris-versicolor\nIris-setosa Iris-setosa\nIris-virginica Iris-virginica\nIris-versicolor Iris-versicolor\nIris-setosa Iris-setosa\nIris-versicolor Iris-versicolor\nIris-virginica Iris-virginica\nIris-virginica Iris-versicolor\nIris-versicolor Iris-virginica\nIris-setosa Iris-setosa\nIris-setosa Iris-setosa\nIris-virginica Iris-virginica\nIris-versicolor Iris-virginica\nIris-versicolor Iris-versicolor\nIris-setosa Iris-setosa\nIris-virginica Iris-virginica\nIris-setosa Iris-setosa\nIris-versicolor Iris-versicolor\nIris-setosa Iris-setosa\nIris-versicolor Iris-versicolor\nIris-virginica Iris-virginica\nIris-setosa Iris-setosa\nIris-virginica Iris-virginica\nIris-versicolor Iris-versicolor\nIris-setosa Iris-setosa\nIris-versicolor Iris-versicolor\nIris-versicolor Iris-versicolor\nIris-versicolor Iris-versicolor\nIris-versicolor Iris-versicolor\nIris-setosa Iris-setosa\nIris-versicolor Iris-versicolor\nIris-setosa Iris-setosa\nIris-setosa Iris-setosa\nIris-virginica Iris-virginica\nIris-virginica Iris-versicolor\nIris-versicolor Iris-versicolor\n142\n"
     ],
     "output_type": "stream"
    }
   ],
   "source": [
    "print(l,e)\n",
    "\n",
    "score = evaluate(test_set, \n",
    "                test_label,\n",
    "                l , \n",
    "                e, \n",
    "                train_set,\n",
    "                train_label)\n",
    "print(score)"
   ],
   "metadata": {
    "collapsed": false,
    "pycharm": {
     "name": "#%%\n",
     "is_executing": false
    }
   }
  },
  {
   "cell_type": "code",
   "execution_count": null,
   "outputs": [],
   "source": [
    "\n"
   ],
   "metadata": {
    "collapsed": false,
    "pycharm": {
     "name": "#%%\n"
    }
   }
  }
 ],
 "metadata": {
  "kernelspec": {
   "display_name": "Python 3",
   "language": "python",
   "name": "python3"
  },
  "language_info": {
   "codemirror_mode": {
    "name": "ipython",
    "version": 2
   },
   "file_extension": ".py",
   "mimetype": "text/x-python",
   "name": "python",
   "nbconvert_exporter": "python",
   "pygments_lexer": "ipython2",
   "version": "2.7.6"
  },
  "pycharm": {
   "stem_cell": {
    "cell_type": "raw",
    "source": [],
    "metadata": {
     "collapsed": false
    }
   }
  }
 },
 "nbformat": 4,
 "nbformat_minor": 0
}
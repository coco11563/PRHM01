{
 "cells": [
  {
   "cell_type": "code",
   "execution_count": 7,
   "outputs": [],
   "source": [
    "\n",
    "import numpy as np\n",
    "import math\n",
    "import pandas as pd\n",
    "import matplotlib as plt"
   ],
   "metadata": {
    "collapsed": false,
    "pycharm": {
     "name": "#%%\n",
     "is_executing": false
    }
   }
  },
  {
   "cell_type": "code",
   "source": [
    "raw_data = pd.read_csv(\"C:\\\\Users\\\\coco1\\\\PycharmProjects\\\\PRHM01\\\\05\\\\ds05\\\\haberman.data\", dtype=str,sep=\",\", header=None)"
   ],
   "metadata": {
    "collapsed": false,
    "pycharm": {
     "name": "#%%\n",
     "is_executing": false
    }
   },
   "execution_count": 33,
   "outputs": []
  },
  {
   "cell_type": "code",
   "execution_count": 54,
   "outputs": [],
   "source": [
    "# gaussian parzen window\n",
    "def gaussain_f(u) : \n",
    "    return (1 / math.sqrt(2 * math.pi)) * math.exp(- u ** 2  / 2)\n",
    "\n",
    "def u(x, x_sample, h) : \n",
    "    return (x - x_sample).sum() / h\n",
    "\n",
    "def k(x, ds, h) : \n",
    "    re = 0\n",
    "    for x_ in ds : \n",
    "        u_ = u(x, x_, h)\n",
    "        g = gaussain_f(u_)\n",
    "        re += g\n",
    "    return re\n",
    "\n",
    "def p(x, ds, h, d) :\n",
    "    n = len(ds)\n",
    "    if n == 0 : return 0\n",
    "    v = h ** d\n",
    "    k_ = k(x, ds, h)\n",
    "    return k_ / (v * n)"
   ],
   "metadata": {
    "collapsed": false,
    "pycharm": {
     "name": "#%%\n",
     "is_executing": false
    }
   }
  },
  {
   "cell_type": "code",
   "source": [
    "len_ = len(raw_data)\n",
    "shu = raw_data.sample(frac=1)\n",
    "cv = np.array(shu.values[:,0:-1],dtype = float)\n",
    "cv_l = np.array(shu.values[:,-1],dtype = int)\n",
    "train = np.array(shu.values[0: int(len_ / 2),0:-1], dtype = float)\n",
    "label = np.array(shu.values[0: int(len_ / 2),-1], dtype = int)\n",
    "test = np.array(shu.values[int(len_ / 2): ,0:-1], dtype = float)\n",
    "test_label = np.array(shu.values[int(len_ / 2):,-1], dtype = int)"
   ],
   "metadata": {
    "collapsed": false,
    "pycharm": {
     "name": "#%%\n",
     "is_executing": false
    }
   },
   "execution_count": 69,
   "outputs": []
  },
  {
   "cell_type": "code",
   "execution_count": 70,
   "outputs": [],
   "source": [
    "def classify (td, tl) :\n",
    "    type1_train_data = []\n",
    "    type2_train_data = []\n",
    "    num_1 = 0\n",
    "    num_2 = 0\n",
    "    for i in range(len(tl)) :\n",
    "        if tl[i] == 1 : \n",
    "            type1_train_data.append(td[i])\n",
    "            num_1 += 1\n",
    "        if tl[i] == 2 : \n",
    "            type2_train_data.append(td[i])\n",
    "            num_2 += 1\n",
    "    return type1_train_data, type2_train_data, num_1, num_2\n",
    "def split_into_folds(ds, label,folds_n):\n",
    "    li = []\n",
    "    length = len(ds)\n",
    "    num = int(length / folds_n)\n",
    "    start = 0\n",
    "    end = num\n",
    "    for i in range(folds_n) :\n",
    "        if i == folds_n - 1 : end = length - 1\n",
    "        test = []\n",
    "        va = []\n",
    "        test_l = []\n",
    "        va_l = []\n",
    "        for j in range(length) :\n",
    "            if end >= j >= start :\n",
    "                test.append(ds[j])\n",
    "                test_l.append(label[j])\n",
    "            else: \n",
    "                va.append(ds[j])\n",
    "                va_l.append(label[j])\n",
    "        li.append([test, va, test_l, va_l])\n",
    "        start += num\n",
    "        end += num\n",
    "    return li   \n",
    "def evaluate (test, tl, h, train, trl) :\n",
    "    t1,t2,n1,n2 = classify(train, trl)\n",
    "    score = 0\n",
    "    ind = 0\n",
    "    for x in test :\n",
    "        label = tl[ind]\n",
    "        p_1 = p(x, t1, h, x.shape[0])\n",
    "        p_2 = p(x, t2, h, x.shape[0])\n",
    "        if p_1 > p_2 : perdict = 1\n",
    "        else : perdict = 2\n",
    "        if label == perdict : score += 1\n",
    "        ind += 1\n",
    "    return score\n",
    "        \n",
    "def get_parameter_by_cross_validate(ds, label, folds_n):\n",
    "        h_list = []\n",
    "        result_score = []\n",
    "        li = split_into_folds(ds, label, folds_n)\n",
    "        for h in range(10):\n",
    "            scores = []\n",
    "            h_ = 0.1 * float(h) + 0.1\n",
    "            for i in range(folds_n):\n",
    "                training_data_i = li[i][0]\n",
    "                test_data_i = li[i][1]\n",
    "                train_data_label = li[i][2]\n",
    "                test_data_label = li[i][3]\n",
    "                score = evaluate\\\n",
    "                    (test_data_i, \n",
    "                     test_data_label,\n",
    "                     h_, \n",
    "                     training_data_i,\n",
    "                     train_data_label)\n",
    "                    #print score\n",
    "                scores.append(score)\n",
    "            score_mean = np.mean(scores)\n",
    "            # print score_mean\n",
    "            result_score.append(score_mean)\n",
    "            h_list.append(h_)\n",
    "        print(h_list)\n",
    "        print(result_score)\n",
    "        h_hat = h_list[result_score.index(max(result_score))]\n",
    "        \n",
    "        return h_hat"
   ],
   "metadata": {
    "collapsed": false,
    "pycharm": {
     "name": "#%%\n",
     "is_executing": false
    }
   }
  },
  {
   "cell_type": "code",
   "execution_count": 71,
   "outputs": [
    {
     "name": "stdout",
     "text": [
      "[0.1, 0.2, 0.30000000000000004, 0.4, 0.5, 0.6, 0.7000000000000001, 0.8, 0.9, 1.0]\n[161.7, 162.8, 162.9, 162.8, 163.5, 162.3, 159.3, 157.6, 158.5, 157.9]\n"
     ],
     "output_type": "stream"
    }
   ],
   "source": [
    "li = get_parameter_by_cross_validate(cv,cv_l,10)\n",
    "        # [0.1, 0.2, 0.30000000000000004, 0.4, 0.5, 0.6, 0.7000000000000001, 0.8, 0.9, 1.0]\n",
    "        # [156.1, 157.9, 157.7, 157.8, 158.0, 157.1, 155.9, 155.2, 152.6, 151.9]"
   ],
   "metadata": {
    "collapsed": false,
    "pycharm": {
     "name": "#%%\n",
     "is_executing": false
    }
   }
  },
  {
   "cell_type": "code",
   "execution_count": 75,
   "outputs": [
    {
     "data": {
      "text/plain": "0.5"
     },
     "metadata": {},
     "output_type": "execute_result",
     "execution_count": 75
    }
   ],
   "source": [
    "score = evaluate(test, test_label, li, train, label)\n",
    "\n",
    "ratio = score / test.shape[0]\n",
    "\n",
    "ratio\n"
   ],
   "metadata": {
    "collapsed": false,
    "pycharm": {
     "name": "#%%\n",
     "is_executing": false
    }
   }
  }
 ],
 "metadata": {
  "kernelspec": {
   "display_name": "Python 3",
   "language": "python",
   "name": "python3"
  },
  "language_info": {
   "codemirror_mode": {
    "name": "ipython",
    "version": 2
   },
   "file_extension": ".py",
   "mimetype": "text/x-python",
   "name": "python",
   "nbconvert_exporter": "python",
   "pygments_lexer": "ipython2",
   "version": "2.7.6"
  },
  "pycharm": {
   "stem_cell": {
    "cell_type": "raw",
    "source": [],
    "metadata": {
     "collapsed": false
    }
   }
  }
 },
 "nbformat": 4,
 "nbformat_minor": 0
}
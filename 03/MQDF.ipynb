{
 "cells": [
  {
   "cell_type": "code",
   "execution_count": 66,
   "metadata": {
    "collapsed": true,
    "pycharm": {
     "is_executing": false
    }
   },
   "outputs": [],
   "source": [
    "from __future__ import print_function, division\n",
    "import math\n",
    "# from pandas import *\n",
    "from scipy import stats\n",
    "from numpy import *\n",
    "import scipy.io as scio\n",
    "# from sklearn.cross_validation import *\n",
    "import numpy as np\n",
    "import pandas as pd\n",
    "import torch\n",
    "# data read and prepare\n",
    "# provide one hot encoding for discrete value\n",
    "def encoding_(dict : dict, idx_to_stuff,stuff, ty=float) :\n",
    "    num = len(dict.items())\n",
    "    if dict.__contains__(stuff) : # 包含这个数值 则不进行处理 返回code\n",
    "        return ty(dict[stuff])\n",
    "    else : \n",
    "        dict[stuff] = num\n",
    "        idx_to_stuff[num] = stuff\n",
    "        return ty(num)\n",
    "\n",
    "def encode_raw_data(raw_data_set : pd.DataFrame, di_raw= None) :\n",
    "    out_matrix = np.zeros(raw_data_set.shape)\n",
    "    # size = raw_data_set.items()\n",
    "    # print(size)\n",
    "    ret = []\n",
    "    for ind in range(raw_data_set.shape[1]) :\n",
    "        col = raw_data_set[ind]\n",
    "        dic = dict()\n",
    "        idx_dic = dict()\n",
    "        if di_raw:\n",
    "            dic,idx_dic = di_raw[ind] \n",
    "        idx = 0\n",
    "        for elem in col : \n",
    "            elem_code  = encoding_(dic, idx_dic, elem)\n",
    "            out_matrix[idx,ind] = elem_code\n",
    "            idx += 1\n",
    "        ret.append((dic, idx_dic))\n",
    "    return out_matrix, ret"
   ]
  },
  {
   "cell_type": "code",
   "execution_count": 67,
   "outputs": [],
   "source": [
    "raw_data_test = pd.read_csv(\"C:\\\\Users\\\\coco1\\\\PycharmProjects\\\\PRHM01\\\\03\\\\ds03\\\\adult.test\", header=None, dtype=str)\n",
    "raw_data = pd.read_csv(\"C:\\\\Users\\\\coco1\\\\PycharmProjects\\\\PRHM01\\\\03\\\\ds03\\\\adult.data\", header=None, dtype=str)\n",
    "train,di_raw = encode_raw_data(raw_data)\n",
    "test,di_raw = encode_raw_data(raw_data_test, di_raw)"
   ],
   "metadata": {
    "collapsed": false,
    "pycharm": {
     "name": "#%%\n",
     "is_executing": false
    }
   }
  },
  {
   "cell_type": "code",
   "execution_count": 68,
   "outputs": [],
   "source": [
    "train_set = torch.tensor(train[:,0:-1], dtype=torch.float)\n",
    "train_label = torch.tensor(train[:,-1], dtype=torch.int)\n",
    "test_set = torch.tensor(test[:,0:-1], dtype=torch.float)\n",
    "test_label = torch.tensor(test[:,-1], dtype=torch.int)"
   ],
   "metadata": {
    "collapsed": false,
    "pycharm": {
     "name": "#%%\n",
     "is_executing": false
    }
   }
  },
  {
   "cell_type": "code",
   "execution_count": 78,
   "outputs": [],
   "source": [
    "def modify_covariance(cov):\n",
    "    a, b = np.linalg.eig(cov)\n",
    "    a_modeified = [0 for i in range(len(a))]\n",
    "    sum_a = sum(a)\n",
    "    c = 0\n",
    "    for i in range(len(a)):\n",
    "        index_i = np.where(a==sorted(a,reverse=True)[i])[0][0]\n",
    "        a_modeified[index_i] = a[index_i]\n",
    "        c += a[index_i]\n",
    "        cc = float(c)/sum_a\n",
    "        delta = float(sum_a-c)/float(len(a) - index_i + 1)\n",
    "        while 0.99 <= cc:\n",
    "            a_modeified[index_i] = delta\n",
    "            index_i +=1\n",
    "            if len(a) == index_i:\n",
    "                break\n",
    "    cov_modefied = np.dot(np.dot(np.linalg.inv(b), mat(diag(a))),b)\n",
    "    return cov_modefied\n",
    "\n",
    "def get_qda_cor_matrix (train, mu) :\n",
    "    print(len(train))\n",
    "    size = train[0].shape[0]\n",
    "    zero: np.ndarray = np.random.normal(0, 0.01, size=(size,size))\n",
    "    i = 1\n",
    "    for vec in train : \n",
    "        if i == 1 :\n",
    "            print(type(vec - mu))\n",
    "            print(type(zero))\n",
    "            i += 1\n",
    "        zero += np.multiply((vec - mu), vec - mu)\n",
    "    \n",
    "    return zero / len(train)\n",
    "\n",
    "def get_qda_norm_attribute (train) : \n",
    "    init_vec = np.zeros(train[0].shape[0])\n",
    "    for vec in train :\n",
    "        init_vec += vec\n",
    "    return init_vec / len(train)\n",
    "\n",
    "def get_sample_covariance_matrix(sample_data):\n",
    "    mean_i = get_qda_norm_attribute(sample_data)\n",
    "    sample_data_1 = sample_data\n",
    "        #print type(sample_data_1)\n",
    "    covMatrix = get_qda_cor_matrix(sample_data_1, mean_i)\n",
    "        #covMatrix = np.cov(sample_data)\n",
    "    return covMatrix,mean_i"
   ],
   "metadata": {
    "collapsed": false,
    "pycharm": {
     "name": "#%%\n",
     "is_executing": false
    }
   }
  },
  {
   "cell_type": "code",
   "execution_count": 79,
   "outputs": [],
   "source": [
    "type1_train_data = []\n",
    "type2_train_data = []\n",
    "num_1 = 0\n",
    "for i in range(train_label.shape[0]) :\n",
    "    if train_label[i] == 0 : \n",
    "        type1_train_data.append(train_set[i])\n",
    "        num_1 += 1\n",
    "    if train_label[i] == 1 : type2_train_data.append(train_set[i])\n",
    "    # print(str(train_label[i]))"
   ],
   "metadata": {
    "collapsed": false,
    "pycharm": {
     "name": "#%%\n",
     "is_executing": false
    }
   }
  },
  {
   "cell_type": "code",
   "execution_count": 80,
   "outputs": [
    {
     "name": "stdout",
     "text": [
      "24720",
      "\n",
      "<class 'numpy.ndarray'>",
      "\n",
      "<class 'numpy.ndarray'>",
      "\n",
      "7841",
      "\n",
      "<class 'numpy.ndarray'>",
      "\n",
      "<class 'numpy.ndarray'>",
      "\n"
     ],
     "output_type": "stream"
    },
    {
     "name": "stderr",
     "text": [
      "C:\\ProgramData\\Anaconda3\\lib\\site-packages\\ipykernel_launcher.py:10: ComplexWarning: Casting complex values to real discards the imaginary part\n  # Remove the CWD from sys.path while we load stuff.\n",
      "C:\\ProgramData\\Anaconda3\\lib\\site-packages\\ipykernel_launcher.py:11: ComplexWarning: Casting complex values to real discards the imaginary part\n  # This is added back by InteractiveShellApp.init_path()\n"
     ],
     "output_type": "stream"
    }
   ],
   "source": [
    "covMatrix_1, mean_1 = get_sample_covariance_matrix(\n",
    "    np.array([[float(elem) \n",
    "               for elem in arr]for arr in type1_train_data]))\n",
    "modify_covmatrix_1 = modify_covariance(covMatrix_1)\n",
    "\n",
    "covMatrix_2, mean_2 = get_sample_covariance_matrix(\n",
    "    np.array([[float(elem) \n",
    "               for elem in arr]for arr in type2_train_data]))\n",
    "modify_covmatrix_2 = modify_covariance(covMatrix_2)"
   ],
   "metadata": {
    "collapsed": false,
    "pycharm": {
     "name": "#%%\n",
     "is_executing": false
    }
   }
  },
  {
   "cell_type": "code",
   "execution_count": 81,
   "outputs": [],
   "source": [
    "p_1 = num_1 / train_label.shape[0]\n",
    "p_2 = 1- p_1"
   ],
   "metadata": {
    "collapsed": false,
    "pycharm": {
     "name": "#%%\n",
     "is_executing": false
    }
   }
  },
  {
   "cell_type": "code",
   "execution_count": 112,
   "outputs": [],
   "source": [
    "def discriminant_function(x, covMatrix, mean_i,p_i):\n",
    "        cov_inverse = np.linalg.pinv(covMatrix)\n",
    "        a = x - mean_i\n",
    "        b = np.dot(a.T, cov_inverse)\n",
    "        c = -np.dot(b, a)\n",
    "        discriminant_function_value = c - math.log(p_i)\n",
    "        return discriminant_function_value"
   ],
   "metadata": {
    "collapsed": false,
    "pycharm": {
     "name": "#%%\n",
     "is_executing": false
    }
   }
  },
  {
   "cell_type": "code",
   "execution_count": 114,
   "outputs": [
    {
     "name": "stdout",
     "text": [
      "0.7567716970702045",
      "\n"
     ],
     "output_type": "stream"
    }
   ],
   "source": [
    "ind = 0\n",
    "right = 0\n",
    "for elem in test_set : \n",
    "    elem = elem.numpy()\n",
    "    r_1 = discriminant_function(elem, modify_covmatrix_1, mean_1, p_1)\n",
    "    # break\n",
    "    r_2 = discriminant_function(elem, modify_covmatrix_2, mean_2, p_2)\n",
    "    num = 2\n",
    "    # print(r_1)\n",
    "    if r_1 < r_2: num += 0\n",
    "    else : num += 1\n",
    "    if int(test_label[ind]) == num : right += 1 \n",
    "    ind += 1\n",
    "    # break\n",
    "    \n",
    "print(right / test_label.shape[0])"
   ],
   "metadata": {
    "collapsed": false,
    "pycharm": {
     "name": "#%%\n",
     "is_executing": false
    }
   }
  },
  {
   "cell_type": "code",
   "execution_count": 115,
   "outputs": [
    {
     "data": {
      "text/plain": "2"
     },
     "metadata": {},
     "output_type": "execute_result",
     "execution_count": 115
    }
   ],
   "source": [
    "int(test_label[0]) "
   ],
   "metadata": {
    "collapsed": false,
    "pycharm": {
     "name": "#%%\n",
     "is_executing": false
    }
   }
  },
  {
   "cell_type": "code",
   "execution_count": null,
   "outputs": [],
   "source": [
    "\n"
   ],
   "metadata": {
    "collapsed": false,
    "pycharm": {
     "name": "#%%\n"
    }
   }
  }
 ],
 "metadata": {
  "kernelspec": {
   "display_name": "Python 3",
   "language": "python",
   "name": "python3"
  },
  "language_info": {
   "codemirror_mode": {
    "name": "ipython",
    "version": 2
   },
   "file_extension": ".py",
   "mimetype": "text/x-python",
   "name": "python",
   "nbconvert_exporter": "python",
   "pygments_lexer": "ipython2",
   "version": "2.7.6"
  },
  "pycharm": {
   "stem_cell": {
    "cell_type": "raw",
    "source": [],
    "metadata": {
     "collapsed": false
    }
   }
  }
 },
 "nbformat": 4,
 "nbformat_minor": 0
}